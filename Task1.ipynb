{
  "nbformat": 4,
  "nbformat_minor": 0,
  "metadata": {
    "colab": {
      "provenance": []
    },
    "kernelspec": {
      "name": "python3",
      "display_name": "Python 3"
    },
    "language_info": {
      "name": "python"
    }
  },
  "cells": [
    {
      "cell_type": "markdown",
      "source": [
        "##Task_1 Innomatics"
      ],
      "metadata": {
        "id": "w2BYDPxw3W7s"
      }
    },
    {
      "cell_type": "markdown",
      "source": [
        "\n",
        "1.   Hello world Program\n",
        "\n"
      ],
      "metadata": {
        "id": "EfWZIwdA4YHg"
      }
    },
    {
      "cell_type": "code",
      "source": [
        "my_string = \"Hello, World!\"\n",
        "print(my_string)"
      ],
      "metadata": {
        "id": "mlRctCRS3WOf"
      },
      "execution_count": null,
      "outputs": []
    },
    {
      "cell_type": "markdown",
      "source": [
        "2.   Python If-Else\n",
        "\n"
      ],
      "metadata": {
        "id": "yt3b49gl4kaC"
      }
    },
    {
      "cell_type": "code",
      "source": [
        "if __name__ == '__main__':\n",
        "    n = int(input().strip())\n",
        "\n",
        "    if n%2 != 0:\n",
        "        print(\"Weird\")\n",
        "    else:\n",
        "        if n>=2 and n<=5:\n",
        "            print(\"Not Weird\")\n",
        "        elif n>=6 and n<=20:\n",
        "            print(\"Weird\")\n",
        "        else:\n",
        "            print(\"Not Weird\")"
      ],
      "metadata": {
        "id": "n4h4y7tS5fBC"
      },
      "execution_count": null,
      "outputs": []
    },
    {
      "cell_type": "markdown",
      "source": [
        "3. Arithmetic Operators\n",
        "\n"
      ],
      "metadata": {
        "id": "f5HR78jG5DOk"
      }
    },
    {
      "cell_type": "code",
      "source": [
        "if __name__ == '__main__':\n",
        "    a = int(input())\n",
        "    b = int(input())\n",
        "print(a+b)\n",
        "print(a-b)\n",
        "print(a*b)"
      ],
      "metadata": {
        "id": "5yosxOEV5gFP"
      },
      "execution_count": null,
      "outputs": []
    },
    {
      "cell_type": "markdown",
      "source": [
        "4.   Division"
      ],
      "metadata": {
        "id": "Jpx3MU_d6nUg"
      }
    },
    {
      "cell_type": "code",
      "source": [
        "if __name__ == '__main__':\n",
        "    a = int(input())\n",
        "    b = int(input())\n",
        "print(a // b)\n",
        "print(a / b)"
      ],
      "metadata": {
        "id": "J7F3GcpS6wRG"
      },
      "execution_count": null,
      "outputs": []
    },
    {
      "cell_type": "markdown",
      "source": [
        "5.   Loop"
      ],
      "metadata": {
        "id": "aRuHVQNm7HB0"
      }
    },
    {
      "cell_type": "code",
      "source": [
        "if __name__ == '__main__':\n",
        "    n = int(input())\n",
        "for i in range(n):\n",
        "  print(i**2)"
      ],
      "metadata": {
        "id": "7Pfii3Bl7oll"
      },
      "execution_count": null,
      "outputs": []
    },
    {
      "cell_type": "markdown",
      "source": [
        "6.   Write a function"
      ],
      "metadata": {
        "id": "FL8MSJsT7vFA"
      }
    },
    {
      "cell_type": "code",
      "source": [
        "def is_leap(year):\n",
        "    leap = False\n",
        "    \n",
        "    # Write your logic here\n",
        "    if (year % 400 == 0):\n",
        "        return True\n",
        "    if (year % 100 == 0):\n",
        "        return leap\n",
        "    if (year % 4 == 0):\n",
        "        return True\n",
        "    else:\n",
        "        return False \n",
        "\n",
        "    return leap\n",
        "\n",
        "year = int(input())\n",
        "print(is_leap(year))"
      ],
      "metadata": {
        "id": "dPaSk3XF74QU"
      },
      "execution_count": null,
      "outputs": []
    },
    {
      "cell_type": "markdown",
      "source": [
        "7.   Print function"
      ],
      "metadata": {
        "id": "-lmULbGj9u0z"
      }
    },
    {
      "cell_type": "code",
      "source": [
        "if __name__ == '__main__':\n",
        "    n = int(input())\n",
        "    for i in range(1, n+1):\n",
        "        print(i, end=\"\")"
      ],
      "metadata": {
        "id": "fnB40mLQ96jA"
      },
      "execution_count": null,
      "outputs": []
    }
  ]
}